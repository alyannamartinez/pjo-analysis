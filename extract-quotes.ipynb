{
 "cells": [
  {
   "cell_type": "markdown",
   "metadata": {},
   "source": [
    "# Import libraries and define variables"
   ]
  },
  {
   "cell_type": "code",
   "execution_count": 1,
   "metadata": {},
   "outputs": [],
   "source": [
    "import re\n",
    "import os\n",
    "import pandas as pd"
   ]
  },
  {
   "cell_type": "code",
   "execution_count": 2,
   "metadata": {},
   "outputs": [],
   "source": [
    "# pattern to extract the quotes\n",
    "quote_pattern = r'\"([^\"]*)\"'\n",
    "\n",
    "# folders\n",
    "## folder containing the raw txt files of the books\n",
    "raw_text_folder = r'.\\raw-text'\n",
    "\n",
    "## folder we will export the book's character text (CT)\n",
    "chara_text_folder = r'.\\processed-text' \n",
    "\n",
    "## folder we will export the dialogue of each character to\n",
    "quotes_folder = r'.\\character-quotes'"
   ]
  },
  {
   "cell_type": "code",
   "execution_count": 3,
   "metadata": {},
   "outputs": [],
   "source": [
    "# book titles\n",
    "book_titles = [\"tlt\", \"som\", \"ttc\", \"bol\", \"tlo\"] # shortform titles of the books, in order of release date\n",
    "book_titles_caps = [i.upper() for i in book_titles] \n",
    "\n",
    "# book file names\n",
    "book_file_names = [i+'_fulltext.txt' for i in book_titles] # getting the file name of the books' original text\n",
    "ct_file_names = [i+'_ct.txt' for i in book_titles] # getting the file name of the books' CT\n",
    "\n",
    "# book file paths\n",
    "full_book_file_names = [os.path.join(raw_text_folder,file) for file in book_file_names] # full file path of each book's text\n",
    "full_ct_file_names = [os.path.join(chara_text_folder,file) for file in ct_file_names] # full file path of each book's CT"
   ]
  },
  {
   "cell_type": "markdown",
   "metadata": {},
   "source": [
    "# Functions"
   ]
  },
  {
   "cell_type": "code",
   "execution_count": 4,
   "metadata": {},
   "outputs": [],
   "source": [
    "# clear all files in folder\n",
    "def clear_folder(folder_path):\n",
    "    files_list = os.listdir(folder_path)\n",
    "    \n",
    "    for i in files_list:\n",
    "        os.remove(os.path.join(folder_path, i))\n",
    "    \n",
    "    return"
   ]
  },
  {
   "cell_type": "code",
   "execution_count": 5,
   "metadata": {},
   "outputs": [],
   "source": [
    "# gets all the lines from the file and returns it as a list of strings\n",
    "def open_book(book_file_path):\n",
    "    f = open(book_file_path, \"r\", encoding=\"utf-8\")\n",
    "    contents = f.read()\n",
    "    lst = contents.split(\"\\n\")\n",
    "    f.close()\n",
    "    return lst"
   ]
  },
  {
   "cell_type": "code",
   "execution_count": 6,
   "metadata": {},
   "outputs": [],
   "source": [
    "# exports the quotes list as a txt file\n",
    "def export_text(file_name, quotes_list):\n",
    "    f = open(file_name, \"w\", encoding=\"utf-8\")\n",
    "    \n",
    "    started = False\n",
    "    \n",
    "    for line in quotes_list:\n",
    "        if started:\n",
    "            f.write('\\n')\n",
    "        started = True\n",
    "        f.write(line)\n",
    "    \n",
    "    f.close()\n",
    "    \n",
    "    return"
   ]
  },
  {
   "cell_type": "code",
   "execution_count": 7,
   "metadata": {},
   "outputs": [],
   "source": [
    "# returns all the quotes from a single line and returns it as a list of strings\n",
    "def get_quotes(string):\n",
    "    quotes_list = re.findall(quote_pattern, string)\n",
    "    return quotes_list"
   ]
  },
  {
   "cell_type": "code",
   "execution_count": 8,
   "metadata": {},
   "outputs": [],
   "source": [
    "# returns the dialogue tag\n",
    "def get_who(string, quote_list):\n",
    "    dialogue_tag = string\n",
    "    \n",
    "    for i in quote_list:\n",
    "        dialogue_tag = dialogue_tag.replace('\"'+i+'\"',\"\")\n",
    "        \n",
    "    dialogue_tag = dialogue_tag.strip()\n",
    "    \n",
    "    return dialogue_tag"
   ]
  },
  {
   "cell_type": "code",
   "execution_count": 9,
   "metadata": {},
   "outputs": [],
   "source": [
    "# will return 'True' if the dialogue is said by Annabeth\n",
    "def get_annabeth(dialogue_tag):\n",
    "    is_Annabeth = True\n",
    "    \n",
    "    if len(dialogue_tag) != 0:\n",
    "        # check that word 'Annabeth' is in the string\n",
    "        if re.search('Annabeth', dialogue_tag):\n",
    "\n",
    "            # check that Percy isn't describing Annabeth - quote doesn't include 'I'\n",
    "            words = [\"I\", \"I'd\", \"I’d\"]\n",
    "            for word in words:\n",
    "                if re.search(r'\\b' + word + \" \", dialogue_tag):\n",
    "                    \n",
    "                    # if it contains I, mark as False\n",
    "                    is_Annabeth = False\n",
    "                    break\n",
    "                    \n",
    "        # otherwise means annabeth doesn't say this quote\n",
    "        else:\n",
    "            is_Annabeth = False\n",
    "        \n",
    "    # otherwise, who says this quote is unknown\n",
    "    else:\n",
    "        is_Annabeth = False\n",
    "    \n",
    "    return is_Annabeth"
   ]
  },
  {
   "cell_type": "code",
   "execution_count": 10,
   "metadata": {},
   "outputs": [],
   "source": [
    "# will return 'True' if the quote is said by Percy\n",
    "def get_percy(dialogue_tag):\n",
    "    is_Percy = True\n",
    "    \n",
    "    if len(dialogue_tag) != 0:\n",
    "        # check that word 'I' is in the string to see if percy said the quotes\n",
    "        if re.search(r'\\b' + 'I ', dialogue_tag):\n",
    "\n",
    "            # check that percy isn't describing something someone else said\n",
    "            words = [\"I'd\", \"I’d\", \"Annabeth\"]\n",
    "            for word in words:\n",
    "                if re.search(r'\\b' + word + \" \", dialogue_tag):\n",
    "                    \n",
    "                    # if it contains I, mark as False\n",
    "                    is_Percy = False\n",
    "                    break\n",
    "                    \n",
    "        # otherwise means percy doesn't say this quote\n",
    "        else:\n",
    "            is_Percy = False\n",
    "        \n",
    "    # otherwise, who says this quote is unknown\n",
    "    else:\n",
    "        is_Percy = False\n",
    "    \n",
    "    return is_Percy"
   ]
  },
  {
   "cell_type": "markdown",
   "metadata": {},
   "source": [
    "# Clear folders to make sure files are exported properly"
   ]
  },
  {
   "cell_type": "code",
   "execution_count": 11,
   "metadata": {},
   "outputs": [],
   "source": [
    "# create chara text and quotes folders if they don't exist\n",
    "# if they do exist, clear chara text and quotes folders to ensure outputted files are correct \n",
    "# this is so we don't accidentally continue writing on old files which may be outdated\n",
    "\n",
    "for folder in [chara_text_folder, quotes_folder]:\n",
    "    # create folder if it doesn't exist\n",
    "    if not os.path.exists(folder):\n",
    "        os.makedirs(folder)\n",
    "    \n",
    "    # if folder has items, clear all items before starting\n",
    "    for i in os.listdir(folder):\n",
    "        item_path = os.path.join(folder, i)\n",
    "\n",
    "        if not(os.path.isfile(item_path)):\n",
    "            clear_folder(item_path)"
   ]
  },
  {
   "cell_type": "markdown",
   "metadata": {},
   "source": [
    "# Filtering out character text from book"
   ]
  },
  {
   "cell_type": "code",
   "execution_count": 12,
   "metadata": {},
   "outputs": [],
   "source": [
    "# using the file with the full text, will filter out only lines with dialogue\n",
    "# then will export this into a seperate txt file\n",
    "\n",
    "for book_num in range(len(full_book_file_names)):\n",
    "    raw_file = full_book_file_names[book_num]\n",
    "    cleaned_file = full_ct_file_names[book_num]\n",
    "    \n",
    "    # first open the book and store the lines as a list\n",
    "    book_lst = open_book(raw_file)\n",
    "    \n",
    "    all_book_quotes = []\n",
    "    \n",
    "    # get all the quotes in the book and store it in a list\n",
    "    for line in book_lst:\n",
    "        if line.find('\"') != -1:\n",
    "            all_book_quotes.append(line)\n",
    "            \n",
    "        elif line.find('“') != -1:\n",
    "            line = line.replace('“', '\"')\n",
    "            line = line.replace('”', '\"')\n",
    "            all_book_quotes.append(line)\n",
    "    \n",
    "    # export this list of dialogues of the book into it's own txt file\n",
    "    export_text(cleaned_file, all_book_quotes)"
   ]
  },
  {
   "cell_type": "markdown",
   "metadata": {},
   "source": [
    "# Filtering out the quotes by character"
   ]
  },
  {
   "cell_type": "code",
   "execution_count": 13,
   "metadata": {},
   "outputs": [],
   "source": [
    "# Using the txt file with just the CT, will now filter out what Annabeth & Percy says\n",
    "annabeth_quotes = []\n",
    "percy_quotes = []\n",
    "\n",
    "for book in full_ct_file_names:\n",
    "    # first, open the file and store the lines as a list\n",
    "    book_lst = open_book(book)\n",
    "    \n",
    "    quotes_book_annabeth = []\n",
    "    quotes_book_percy = []\n",
    "    \n",
    "    for line in book_lst:\n",
    "        \n",
    "        # returns all the quotes from a single line and returns it as a list of strings\n",
    "        quote_list = get_quotes(line)\n",
    "        \n",
    "        # check who said the quote\n",
    "        dialogue_tag = get_who(line, quote_list)\n",
    "        \n",
    "        # check if it's annabeth\n",
    "        # to check if annabeth said the quotes, check if the text contains 'Annabeth'\n",
    "        # and doesn't contain 'I', 'I'd\n",
    "        if get_annabeth(dialogue_tag) == True:\n",
    "            quotes_book_annabeth.extend(quote_list)\n",
    "            \n",
    "        # check if it's percy\n",
    "        # to check if percy said the quotes, check if the text contains 'I'\n",
    "        # and doesn't contain 'I', 'I'd so that percy isn't describing something someone else said\n",
    "        if get_percy(dialogue_tag) == True:\n",
    "            quotes_book_percy.extend(quote_list)\n",
    "    \n",
    "    annabeth_quotes.append(quotes_book_annabeth)\n",
    "    percy_quotes.append(quotes_book_percy)"
   ]
  },
  {
   "cell_type": "markdown",
   "metadata": {},
   "source": [
    "# Export character quotes"
   ]
  },
  {
   "cell_type": "code",
   "execution_count": 14,
   "metadata": {},
   "outputs": [],
   "source": [
    "# count number of quotes\n",
    "annabeth_num_quotes = [len(i) for i in annabeth_quotes]\n",
    "percy_num_quotes = [len(i) for i in percy_quotes]\n",
    "\n",
    "count_df = pd.DataFrame([annabeth_num_quotes, percy_num_quotes], columns = book_titles_caps, index = ['Annabeth', 'Percy'])"
   ]
  },
  {
   "cell_type": "code",
   "execution_count": 15,
   "metadata": {},
   "outputs": [
    {
     "data": {
      "text/html": [
       "<div>\n",
       "<style scoped>\n",
       "    .dataframe tbody tr th:only-of-type {\n",
       "        vertical-align: middle;\n",
       "    }\n",
       "\n",
       "    .dataframe tbody tr th {\n",
       "        vertical-align: top;\n",
       "    }\n",
       "\n",
       "    .dataframe thead th {\n",
       "        text-align: right;\n",
       "    }\n",
       "</style>\n",
       "<table border=\"1\" class=\"dataframe\">\n",
       "  <thead>\n",
       "    <tr style=\"text-align: right;\">\n",
       "      <th></th>\n",
       "      <th>TLT</th>\n",
       "      <th>SOM</th>\n",
       "      <th>TTC</th>\n",
       "      <th>BOL</th>\n",
       "      <th>TLO</th>\n",
       "    </tr>\n",
       "  </thead>\n",
       "  <tbody>\n",
       "    <tr>\n",
       "      <th>Annabeth</th>\n",
       "      <td>271</td>\n",
       "      <td>243</td>\n",
       "      <td>59</td>\n",
       "      <td>392</td>\n",
       "      <td>207</td>\n",
       "    </tr>\n",
       "    <tr>\n",
       "      <th>Percy</th>\n",
       "      <td>769</td>\n",
       "      <td>547</td>\n",
       "      <td>749</td>\n",
       "      <td>775</td>\n",
       "      <td>961</td>\n",
       "    </tr>\n",
       "  </tbody>\n",
       "</table>\n",
       "</div>"
      ],
      "text/plain": [
       "          TLT  SOM  TTC  BOL  TLO\n",
       "Annabeth  271  243   59  392  207\n",
       "Percy     769  547  749  775  961"
      ]
     },
     "execution_count": 15,
     "metadata": {},
     "output_type": "execute_result"
    }
   ],
   "source": [
    "count_df"
   ]
  },
  {
   "cell_type": "code",
   "execution_count": 16,
   "metadata": {},
   "outputs": [],
   "source": [
    "# exporting annabeth's quotes\n",
    "for i in range(len(annabeth_quotes)):\n",
    "    # name of file for annabeth's quotes\n",
    "    annabeth_file_name = os.path.join(quotes_folder, \"annabeth_\" + book_titles[i] + \".txt\")\n",
    "    \n",
    "    # export as text file\n",
    "    export_text(annabeth_file_name, annabeth_quotes[i])"
   ]
  },
  {
   "cell_type": "code",
   "execution_count": 17,
   "metadata": {},
   "outputs": [],
   "source": [
    "# exporting percy's quotes\n",
    "for i in range(len(percy_quotes)):\n",
    "    # name of file for percy's quotes\n",
    "    percy_file_name = os.path.join(quotes_folder, \"percy_\" + book_titles[i] + \".txt\")\n",
    "    \n",
    "    # export as text file\n",
    "    export_text(percy_file_name, percy_quotes[i])"
   ]
  }
 ],
 "metadata": {
  "kernelspec": {
   "display_name": "Python 3 (ipykernel)",
   "language": "python",
   "name": "python3"
  },
  "language_info": {
   "codemirror_mode": {
    "name": "ipython",
    "version": 3
   },
   "file_extension": ".py",
   "mimetype": "text/x-python",
   "name": "python",
   "nbconvert_exporter": "python",
   "pygments_lexer": "ipython3",
   "version": "3.11.5"
  }
 },
 "nbformat": 4,
 "nbformat_minor": 4
}
